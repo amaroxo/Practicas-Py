{
  "nbformat": 4,
  "nbformat_minor": 0,
  "metadata": {
    "colab": {
      "provenance": [],
      "authorship_tag": "ABX9TyMOXJz1cF/RWQ6nsI+yOmGR",
      "include_colab_link": true
    },
    "kernelspec": {
      "name": "python3",
      "display_name": "Python 3"
    },
    "language_info": {
      "name": "python"
    }
  },
  "cells": [
    {
      "cell_type": "markdown",
      "metadata": {
        "id": "view-in-github",
        "colab_type": "text"
      },
      "source": [
        "<a href=\"https://colab.research.google.com/github/amaroxo/Practicas-Py/blob/main/NumAleatorio.ipynb\" target=\"_parent\"><img src=\"https://colab.research.google.com/assets/colab-badge.svg\" alt=\"Open In Colab\"/></a>"
      ]
    },
    {
      "cell_type": "code",
      "execution_count": 7,
      "metadata": {
        "colab": {
          "base_uri": "https://localhost:8080/"
        },
        "id": "c4hK31GMU5HS",
        "outputId": "bdb0de6c-39e0-40ea-fc8c-01f374823501"
      },
      "outputs": [
        {
          "output_type": "stream",
          "name": "stdout",
          "text": [
            "Ingrese un valor entero, entre 1 y 20: 4\n",
            "El valor es mayor\n",
            "Ingrese un valor entero, entre 1 y 20: 12\n",
            "Felicidades acertaste\n"
          ]
        }
      ],
      "source": [
        "import random\n",
        "\n",
        "valorPC =random.randint(1, 20)\n",
        "acerto =False\n",
        "\n",
        "while acerto == False:\n",
        "  valorUsuario =int(input(\"Ingrese un valor entero, entre 1 y 20: \"))\n",
        "\n",
        "  if valorPC == valorUsuario:\n",
        "    print(\"Felicidades acertaste\")\n",
        "    acerto = True\n",
        "  else:\n",
        "      if valorPC  > valorUsuario:\n",
        "        print(\"El valor es mayor\")\n",
        "      else:\n",
        "        print(\"El valor es menor\")"
      ]
    },
    {
      "cell_type": "code",
      "source": [],
      "metadata": {
        "id": "QCCc8BsaU_CC"
      },
      "execution_count": null,
      "outputs": []
    }
  ]
}